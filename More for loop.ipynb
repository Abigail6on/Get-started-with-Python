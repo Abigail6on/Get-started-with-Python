{
 "cells": [
  {
   "cell_type": "code",
   "execution_count": 7,
   "metadata": {},
   "outputs": [
    {
     "name": "stdout",
     "output_type": "stream",
     "text": [
      "apple\n",
      "banana\n",
      "republic\n",
      "0\n",
      "1\n",
      "2\n",
      "apple\n",
      "banana\n",
      "republic\n",
      "0\n",
      "1\n",
      "2\n",
      "apple\n",
      "banana\n",
      "republic\n"
     ]
    }
   ],
   "source": [
    "a = [\"apple\", \"banana\", \"republic\"]\n",
    "\n",
    "for element in a:\n",
    "    print(element)\n",
    "    \n",
    "for i in range(3):\n",
    "    print(i)\n",
    "for i in range(3):\n",
    "    print(a[i])\n",
    "for i in range(len(a)):\n",
    "    print(i)\n",
    "for i in range(len(a)):\n",
    "    print(a[i])"
   ]
  },
  {
   "cell_type": "code",
   "execution_count": 9,
   "metadata": {},
   "outputs": [
    {
     "name": "stdout",
     "output_type": "stream",
     "text": [
      "[1, 2, 3, 4, 5, 6, 7, 8, 9, 10, 11, 12, 13, 14, 15, 16, 17, 18, 19, 20, 21, 22, 23, 24, 25, 26, 27, 28, 29, 30, 31, 32, 33, 34, 35, 36, 37, 38, 39, 40, 41, 42, 43, 44, 45, 46, 47, 48, 49, 50, 51, 52, 53, 54, 55, 56, 57, 58, 59, 60, 61, 62, 63, 64, 65, 66, 67, 68, 69, 70, 71, 72, 73, 74, 75, 76, 77, 78, 79, 80, 81, 82, 83, 84, 85, 86, 87, 88, 89, 90, 91, 92, 93, 94, 95, 96, 97, 98, 99]\n"
     ]
    }
   ],
   "source": [
    "print(list(range(1, 100)))"
   ]
  },
  {
   "cell_type": "code",
   "execution_count": 11,
   "metadata": {},
   "outputs": [
    {
     "name": "stdout",
     "output_type": "stream",
     "text": [
      "2318\n"
     ]
    }
   ],
   "source": [
    "total = 0\n",
    "for i in range(1, 100):\n",
    "    if i % 3 == 0:\n",
    "        total += i\n",
    "        i += 1\n",
    "    elif i % 5 == 0:\n",
    "        total += i\n",
    "print(total)\n"
   ]
  },
  {
   "cell_type": "code",
   "execution_count": 13,
   "metadata": {},
   "outputs": [
    {
     "name": "stdout",
     "output_type": "stream",
     "text": [
      "2318\n"
     ]
    }
   ],
   "source": [
    "total1 = 0\n",
    "for i in range(1, 100):\n",
    "    if i % 3 == 0 or i % 5 == 0:\n",
    "       total1 += i\n",
    "print(total1)\n",
    "    "
   ]
  },
  {
   "cell_type": "code",
   "execution_count": 14,
   "metadata": {},
   "outputs": [
    {
     "name": "stdout",
     "output_type": "stream",
     "text": [
      "-13\n"
     ]
    }
   ],
   "source": [
    "given_list = [6, 5, 5, 4, 3, 2, -1, -3, -4, -5]\n",
    "\n",
    "total2 = 0\n",
    "j = len(given_list) - 1\n",
    "while given_list[j] < 1:\n",
    "    total2 += given_list[j]\n",
    "    j -= 1\n",
    "print(total2)"
   ]
  }
 ],
 "metadata": {
  "kernelspec": {
   "display_name": "Python 3",
   "language": "python",
   "name": "python3"
  },
  "language_info": {
   "codemirror_mode": {
    "name": "ipython",
    "version": 3
   },
   "file_extension": ".py",
   "mimetype": "text/x-python",
   "name": "python",
   "nbconvert_exporter": "python",
   "pygments_lexer": "ipython3",
   "version": "3.7.4"
  }
 },
 "nbformat": 4,
 "nbformat_minor": 2
}
