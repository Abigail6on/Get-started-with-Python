{
 "cells": [
  {
   "cell_type": "code",
   "execution_count": 10,
   "metadata": {},
   "outputs": [
    {
     "name": "stdout",
     "output_type": "stream",
     "text": [
      "10\n",
      "[1, 2, 3, 4]\n",
      "10\n"
     ]
    }
   ],
   "source": [
    "b = [2, 3, 5]\n",
    "total = 0\n",
    "for e in b:\n",
    "    total = total + e\n",
    "print (total)\n",
    "    \n",
    "c = list (range(1,5))\n",
    "print(c)\n",
    "\n",
    "total2 = 0\n",
    "for i in range(1,5):\n",
    "    total2 = total2 + i\n",
    "print (total2)\n"
   ]
  },
  {
   "cell_type": "code",
   "execution_count": 16,
   "metadata": {},
   "outputs": [
    {
     "name": "stdout",
     "output_type": "stream",
     "text": [
      "9\n"
     ]
    }
   ],
   "source": [
    "total3 = 0\n",
    "for j in range(1,8):\n",
    "    if j % 3 == 0:\n",
    "        total3 += j \n",
    "print(total3)"
   ]
  },
  {
   "cell_type": "code",
   "execution_count": 17,
   "metadata": {},
   "outputs": [
    {
     "name": "stdout",
     "output_type": "stream",
     "text": [
      "10\n"
     ]
    }
   ],
   "source": [
    "total4 = 0\n",
    "d = 1 \n",
    "while d < 5:\n",
    "    total4 += d \n",
    "    d += 1\n",
    "print(total4)\n",
    "    \n"
   ]
  },
  {
   "cell_type": "code",
   "execution_count": 2,
   "metadata": {},
   "outputs": [
    {
     "name": "stdout",
     "output_type": "stream",
     "text": [
      "16\n"
     ]
    }
   ],
   "source": [
    "given_list = [5,4,4,3,-1,-2,-3]\n",
    "\n",
    "t = 0\n",
    "total5 = 0\n",
    "while given_list[t] > 0:\n",
    "    total5 += given_list[t] \n",
    "    t += 1\n",
    "print(total5)"
   ]
  },
  {
   "cell_type": "code",
   "execution_count": 4,
   "metadata": {},
   "outputs": [
    {
     "name": "stdout",
     "output_type": "stream",
     "text": [
      "16\n"
     ]
    }
   ],
   "source": [
    "given_list = [5,4,4,3,-1,-2,-3]\n",
    "\n",
    "total6 = 0\n",
    "for element in given_list:\n",
    "    if element <= 0:\n",
    "        break\n",
    "    total6 += element \n",
    "    element += 1\n",
    "print(total6)"
   ]
  },
  {
   "cell_type": "code",
   "execution_count": 6,
   "metadata": {},
   "outputs": [
    {
     "name": "stdout",
     "output_type": "stream",
     "text": [
      "20\n"
     ]
    }
   ],
   "source": [
    "given_list2 = [5,4,4,3,2,2,-1,-2,-3]\n",
    "\n",
    "total7 = 0\n",
    "i = 0 \n",
    "while True:\n",
    "    total7 += given_list2[i]\n",
    "    i += 1\n",
    "    if given_list2[i] <= 0:\n",
    "        break\n",
    "print(total7)\n",
    "    "
   ]
  },
  {
   "cell_type": "code",
   "execution_count": null,
   "metadata": {},
   "outputs": [],
   "source": []
  }
 ],
 "metadata": {
  "kernelspec": {
   "display_name": "Python 3",
   "language": "python",
   "name": "python3"
  },
  "language_info": {
   "codemirror_mode": {
    "name": "ipython",
    "version": 3
   },
   "file_extension": ".py",
   "mimetype": "text/x-python",
   "name": "python",
   "nbconvert_exporter": "python",
   "pygments_lexer": "ipython3",
   "version": "3.7.4"
  }
 },
 "nbformat": 4,
 "nbformat_minor": 2
}
