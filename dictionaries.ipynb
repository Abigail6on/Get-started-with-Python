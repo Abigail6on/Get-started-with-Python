{
 "cells": [
  {
   "cell_type": "code",
   "execution_count": 2,
   "metadata": {},
   "outputs": [
    {
     "name": "stdout",
     "output_type": "stream",
     "text": [
      "24\n"
     ]
    }
   ],
   "source": [
    "d = {}\n",
    "\n",
    "d[\"George\"] = 24\n",
    "d[\"Tom\"] = 32\n",
    "d[\"Jenny\"] = 16\n",
    "print(d[\"George\"])"
   ]
  },
  {
   "cell_type": "code",
   "execution_count": 5,
   "metadata": {},
   "outputs": [
    {
     "name": "stdout",
     "output_type": "stream",
     "text": [
      "key:\n",
      "George\n",
      "value:\n",
      "24\n",
      " \n",
      "key:\n",
      "Tom\n",
      "value:\n",
      "32\n",
      " \n",
      "key:\n",
      "Jenny\n",
      "value:\n",
      "16\n",
      " \n"
     ]
    }
   ],
   "source": [
    "for key, value in d.items():\n",
    "    print(\"key:\")\n",
    "    print(key)\n",
    "    print(\"value:\")\n",
    "    print(value)\n",
    "    print(\" \")"
   ]
  },
  {
   "cell_type": "code",
   "execution_count": null,
   "metadata": {},
   "outputs": [],
   "source": []
  }
 ],
 "metadata": {
  "kernelspec": {
   "display_name": "Python 3",
   "language": "python",
   "name": "python3"
  },
  "language_info": {
   "codemirror_mode": {
    "name": "ipython",
    "version": 3
   },
   "file_extension": ".py",
   "mimetype": "text/x-python",
   "name": "python",
   "nbconvert_exporter": "python",
   "pygments_lexer": "ipython3",
   "version": "3.7.4"
  }
 },
 "nbformat": 4,
 "nbformat_minor": 2
}
