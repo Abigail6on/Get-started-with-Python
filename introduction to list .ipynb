{
 "cells": [
  {
   "cell_type": "code",
   "execution_count": 3,
   "metadata": {},
   "outputs": [
    {
     "name": "stdout",
     "output_type": "stream",
     "text": [
      "[3, -7, 5]\n",
      "[3, -7, 5, 'hello world']\n",
      "[3, -7, 5, 'hello world', 1]\n",
      "[3, -7, 5, 'hello world', 1, [2, 3]]\n",
      "[3, -7, 5, 'hello world', 1]\n",
      "[3, -7, 5, 'hello world']\n",
      "[3, -7, 5]\n",
      "3\n",
      "[100, -7, 5]\n"
     ]
    }
   ],
   "source": [
    "a = [3, -7, 5]\n",
    "print (a)\n",
    "\n",
    "a.append(\"hello world\")\n",
    "print(a)\n",
    "a.append(1)\n",
    "print(a)\n",
    "a.append([2, 3])\n",
    "print(a)\n",
    "\n",
    "a.pop()\n",
    "print(a)\n",
    "a.pop()\n",
    "print(a)\n",
    "a.pop()\n",
    "print(a)\n",
    "\n",
    "print(a[0])\n",
    "\n",
    "a[0] = 100\n",
    "print(a)\n"
   ]
  },
  {
   "cell_type": "code",
   "execution_count": 7,
   "metadata": {},
   "outputs": [
    {
     "name": "stdout",
     "output_type": "stream",
     "text": [
      "['banana', 'apple', 'microsoft']\n",
      "['microsoft', 'apple', 'banana']\n",
      "['banana', 'apple', 'microsoft']\n"
     ]
    }
   ],
   "source": [
    "b = [\"banana\", \"apple\", \"microsoft\"]\n",
    "print(b)\n",
    "\n",
    "temp = b[0]\n",
    "b[0] = b[2]\n",
    "b[2] = temp\n",
    "print(b)\n",
    "\n",
    "b[0], b[2] = b[2], b[0]\n",
    "print(b)"
   ]
  },
  {
   "cell_type": "code",
   "execution_count": null,
   "metadata": {},
   "outputs": [],
   "source": []
  }
 ],
 "metadata": {
  "kernelspec": {
   "display_name": "Python 3",
   "language": "python",
   "name": "python3"
  },
  "language_info": {
   "codemirror_mode": {
    "name": "ipython",
    "version": 3
   },
   "file_extension": ".py",
   "mimetype": "text/x-python",
   "name": "python",
   "nbconvert_exporter": "python",
   "pygments_lexer": "ipython3",
   "version": "3.7.4"
  }
 },
 "nbformat": 4,
 "nbformat_minor": 2
}
