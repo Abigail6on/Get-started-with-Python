{
 "cells": [
  {
   "cell_type": "code",
   "execution_count": null,
   "metadata": {},
   "outputs": [],
   "source": [
    "print(\"Hello Word\")"
   ]
  },
  {
   "cell_type": "code",
   "execution_count": null,
   "metadata": {},
   "outputs": [],
   "source": [
    "a=1\n",
    "print(a)"
   ]
  },
  {
   "cell_type": "code",
   "execution_count": null,
   "metadata": {},
   "outputs": [],
   "source": [
    "a = 1\n",
    "b = 2\n",
    "if a < b:\n",
    "    print(\"a is less than b\")\n",
    "    print(\" a is definitely less than b\")\n",
    "print(\"not sure if a is less than b\")"
   ]
  },
  {
   "cell_type": "code",
   "execution_count": null,
   "metadata": {},
   "outputs": [],
   "source": [
    "#varables \n",
    "name = \"YL Y\"\n",
    "weight_kg = 110\n",
    "height_m = 2\n",
    "\n",
    "bmi = weight_kg / (height_m ** 2)\n",
    "print(\" bmi = \")\n",
    "print (bmi)\n",
    "\n",
    "if bmi < 25:\n",
    "    print (name)\n",
    "    print (\" is not overweight.\")\n",
    "else:\n",
    "    print (name)\n",
    "    print (\" is overweight.\")\n",
    "    "
   ]
  },
  {
   "cell_type": "code",
   "execution_count": null,
   "metadata": {},
   "outputs": [],
   "source": [
    "# applied functions \n",
    "def function():\n",
    "    print (\"ahhhhh\")\n",
    "    print (\"ahhhhhh2\")\n",
    "print (\"this is outside the function\")\n"
   ]
  },
  {
   "cell_type": "code",
   "execution_count": null,
   "metadata": {},
   "outputs": [],
   "source": [
    "function()\n",
    "function()"
   ]
  },
  {
   "cell_type": "code",
   "execution_count": null,
   "metadata": {},
   "outputs": [],
   "source": [
    "def function1(x):\n",
    "    return 2*x"
   ]
  },
  {
   "cell_type": "code",
   "execution_count": null,
   "metadata": {},
   "outputs": [],
   "source": [
    "a = function1(3)"
   ]
  },
  {
   "cell_type": "code",
   "execution_count": null,
   "metadata": {},
   "outputs": [],
   "source": [
    "print(a)"
   ]
  },
  {
   "cell_type": "code",
   "execution_count": 3,
   "metadata": {},
   "outputs": [
    {
     "name": "stdout",
     "output_type": "stream",
     "text": [
      "6\n",
      "12\n"
     ]
    }
   ],
   "source": [
    "def function2(y):\n",
    "    return 2*y \n",
    "b = function2(3)\n",
    "print (b)\n",
    "c = function2(6)\n",
    "print(c)"
   ]
  },
  {
   "cell_type": "code",
   "execution_count": 4,
   "metadata": {},
   "outputs": [
    {
     "name": "stdout",
     "output_type": "stream",
     "text": [
      "3\n"
     ]
    }
   ],
   "source": [
    "def function3 (x, y):\n",
    "    return x + y\n",
    "d = function3 (1, 2)\n",
    "print (d)\n"
   ]
  },
  {
   "cell_type": "code",
   "execution_count": 5,
   "metadata": {},
   "outputs": [
    {
     "name": "stdout",
     "output_type": "stream",
     "text": [
      "8\n"
     ]
    }
   ],
   "source": [
    "f = function2(4)\n",
    "print (f)"
   ]
  },
  {
   "cell_type": "code",
   "execution_count": 7,
   "metadata": {},
   "outputs": [
    {
     "name": "stdout",
     "output_type": "stream",
     "text": [
      "4\n",
      "weeeee\n"
     ]
    }
   ],
   "source": [
    "def function4(some_argument):\n",
    "    print(some_argument)\n",
    "    print (\"weeeee\")\n",
    "function4(4)"
   ]
  },
  {
   "cell_type": "code",
   "execution_count": 14,
   "metadata": {},
   "outputs": [
    {
     "name": "stdout",
     "output_type": "stream",
     "text": [
      "bmi: \n",
      "15.0\n",
      "bmi: \n",
      "15.873015873015872\n",
      "bmi: \n",
      "24.691358024691358\n",
      "YL Y is not over weight. \n",
      "ML is not over weight. \n",
      "KJ is not over weight. \n"
     ]
    }
   ],
   "source": [
    "name1 = \"YL Y\"\n",
    "weight_kg1 = 60\n",
    "height_m1 = 2\n",
    "\n",
    "name2 = \"ML\"\n",
    "weight_kg2 = 70\n",
    "height_m2 = 2.1\n",
    "\n",
    "name3 = \"KJ\"\n",
    "weight_kg3 = 80\n",
    "height_m3 = 1.8\n",
    "\n",
    "def bmi_calculator(name, weight_kg, height_m):\n",
    "    bmi = weight_kg / (height_m ** 2)\n",
    "    print (\"bmi: \")\n",
    "    print (bmi)\n",
    "    if bmi < 25:\n",
    "        return name + \" is not over weight. \"\n",
    "    else:\n",
    "        return name + \" is over weight. \"\n",
    "result1 = bmi_calculator(name1, weight_kg1, height_m1)\n",
    "result2 = bmi_calculator(name2, weight_kg2, height_m2)\n",
    "result3 = bmi_calculator(name3, weight_kg3, height_m3)\n",
    "           \n",
    "print(result1)\n",
    "print(result2)\n",
    "print(result3)\n",
    "        "
   ]
  },
  {
   "cell_type": "code",
   "execution_count": null,
   "metadata": {},
   "outputs": [],
   "source": []
  }
 ],
 "metadata": {
  "kernelspec": {
   "display_name": "Python 3",
   "language": "python",
   "name": "python3"
  },
  "language_info": {
   "codemirror_mode": {
    "name": "ipython",
    "version": 3
   },
   "file_extension": ".py",
   "mimetype": "text/x-python",
   "name": "python",
   "nbconvert_exporter": "python",
   "pygments_lexer": "ipython3",
   "version": "3.7.4"
  }
 },
 "nbformat": 4,
 "nbformat_minor": 2
}
